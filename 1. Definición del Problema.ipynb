{
 "cells": [
  {
   "cell_type": "markdown",
   "metadata": {},
   "source": [
    "# 1. Definición del Problema\n",
    "\n",
    "_Una imagen vale más que mil palabras._\n",
    "\n",
    "¿Cuántas veces has escuchado esto? Lo sé, lo sé... Es un cliché, pero también cierto.\n",
    "\n",
    "Esta pequeña porción de sabiduría justifica grandemente la existencia de todo un campo dedicado al entendimiento de las imágenes, su significado y qué acciones pueden derivarse de la información en ellas contenida. Claramente, nos referimos a computer vision.\n",
    "\n",
    "Pero, ¿qué significa realmente \"entender\"? ¿Es interpretar una escena? ¿Decir qué hay en una foto? ¿Describir la relación entre los componentes de una imagen? Todo lo anterior, la verdad.\n",
    "\n",
    "Por supuesto, cada ángulo o perspectiva mencionada anteriormente está relacionada a tareas específicas dentro de computer vision, siendo la detección de objetos una de las más antiguas.\n",
    "\n",
    "En este proyecto desarrollaremos un modelo para diferenciar entre cosas que son carros y cosas que no lo son.\n"
   ]
  },
  {
   "cell_type": "markdown",
   "metadata": {},
   "source": [
    "## ¿Por qué la detección de vehículos es importante? \n",
    "<img src=\"assets/car_boxes.jpg\"/>"
   ]
  },
  {
   "cell_type": "markdown",
   "metadata": {},
   "source": [
    "En general, decir si un objeto se encuentra en una imagen no es suficientemente relevante. Es como preguntarle a una base de datos si un determinado registro existe. La verdadera importancia de la cuestión yacen en el _por qué_.\n",
    "\n",
    "¿_Por qué_ quieres saber? ¿Que harás con esta información?\n",
    "\n",
    "En otras palabras, es la aplicación de la información lo que importa, no la información en sí misma.\n",
    "\n",
    "He aquí varios escenarios donde la detección de carros puede resultar útil:\n",
    "\n",
    " - **Inventario**: Si eres un gran manufacturador de carros, como GM, Ford o Chrysler, una pieza de software capaz de contabilizar el número de autos en una imagen podría ayudarte enormemente manteniendo un inventario actualizado.\n",
    " - **Conducción autónoma**: Un vehículo autónomo, con el fin de poder entregar su carga o sus pasajeros sanos y salvos, desde un origen A a un destino B, debe estar muy atento a su entorno. Un algoritmo de detección de carros podría proveer información crucial a los múltiples sensores que un vehículo autónomo tiene, la cual ayudaría tomando decisiones importante como cambiar de carril o estacionar.\n",
    " - **Seguridad**: En áreas donde el acceso es restringido, tales como en complejos privados, aeropuertos o bases militares, un modelo entrenado para identificar determinado tipo de vehículos podría actuar como una alarma anti-invasores."
   ]
  },
  {
   "cell_type": "markdown",
   "metadata": {},
   "source": [
    "## ¿Cómo identificarías un carro?\n",
    "\n",
    "<img src=\"assets/red_beetle.jpeg\" />"
   ]
  },
  {
   "cell_type": "markdown",
   "metadata": {},
   "source": [
    "¡**Tú** eres un EXPERTO!\n",
    "\n",
    "¡Sí! ¡Tú! Estoy convencido de que podrías identificar un carro, incluso si pertenece a una marca de la cual nunca has escuchado.\n",
    "\n",
    "Rayos, seguramente podría identificar un carro en una caricatura, un vehículo de tres ruedas o un auto de F1. ¿Cómo? Los seres humanos estamos construidos para detectar objetos en una escena. Quizás no podamos explicar en detalle lo que está sucediendo en nuestro cerebro... Simplemente podemos identificar cosas con extrema facilidad.\n",
    "\n",
    "El neurocientífico en mi interior diría que, probablemente, nuestro cerebro se enfoca en una serie de aspectos distintivos de lo que hacen a un carro un carro: Ruedas (la mayoría tienen cuatro), luces delanteras y traceras, capó, maletero, etcétera. El ambiente típico en el que se hallan los carros también proporciona información valiosa: Es mucho más probable que un objeto con cuatro ruedas se trate de un carro si está rodeado de edificios y se encuentra sobre el asfalto, en vez de en las nubes."
   ]
  },
  {
   "cell_type": "markdown",
   "metadata": {},
   "source": [
    "## ¿Cómo una máquina identificaría un carro?\n",
    "\n",
    "<img src=\"assets/yolo.jpg\" />\n",
    "\n",
    "Aquí es donde se pone interesante.\n",
    "\n",
    "Primero recordemos que las imágenes que nosotros vemos en un computador, no son más que un montón de números para la máquina. Donde observamos un hermoso Cadillac conduciendo hacia el atardecer, la computadora ve un tensor gigante de enteros.\n",
    "\n",
    "Entonces, una máquina ha de ser capaz de hallar patrones en este mar de números para afirmar que hay un carro en alguna parte.\n",
    "\n",
    "Hay varias aproximaciones:\n",
    "\n",
    " - **Coincidencia de plantillas**: Podemos comparar una imagen con otra que nos sirva de plantilla (por ejemplo, la del VW que está más arriba). Digamos que substraemos los pixeles en ambas imágenes para determinar qué tan similares son. Si el número es bajo, significa que coinciden en la mayoría de sus regiones. Si el número es alto, entonces no se parecen tanto. Hay muchos problemas con esta estrategia:\n",
    "     - ¿Qué pasa si el carro en la nueva imagen tiene un color diferente al de nuestra plantilla?\n",
    "     - ¿Y si el vehículo en la nueva imagen aparece en el costado izquierdo, mientras que en nuestra plantilla se encuentra en el derecho?\n",
    "     - ¿Y si el carro en la nueva imagen está muy lejos, mientras que en la plantilla se encuentra cerca a la cámara?\n",
    "     - ¿Qué pasa si la nueva imagen tiene una foto en primer plano de Clifford, el perro rojo y en nuestra plantilla tenemos un camión de bomberos? La mayor parte de la nueva imagen también sería roja, pero estoy convencido de que Clifford no es un camión.\n",
    " - **CV Clásico + Machine Learning Clásico**: Esta estrategia es mucho más robusta que simplemente comparar dos imágenes. Básicamente, consiste en extraer características significativas de las imágenes, apoyándonos en técnicas tradicionales de computer vision, como Histogram of Oriented Gradients, con el fin de alimentar un clasificador, como un árbol de decisión. Hace unos años implementé un detector de vehículos usando esta aproximación. Puedes acceder al proyecto [aquí](https://github.com/jesus-a-martinez-v/vehicle-detection).\n",
    " - **Deep Learning**: Esta es la estrategia más poderosa. Muchas arquitecturas de redes neuronales vanguardistas han sido desarrolladas no sólo para realizar mejores predicciones, sino también más veloces. Una de las más interesantes es YOLO. He aquí un video de YOLO mirando YouTube:"
   ]
  },
  {
   "cell_type": "code",
   "execution_count": 6,
   "metadata": {},
   "outputs": [
    {
     "data": {
      "text/html": [
       "\n",
       "        <iframe\n",
       "            width=\"560\"\n",
       "            height=\"315\"\n",
       "            src=\"https://www.youtube.com/embed/r6ZzopHEO1U\"\n",
       "            frameborder=\"0\"\n",
       "            allowfullscreen\n",
       "        ></iframe>\n",
       "        "
      ],
      "text/plain": [
       "<IPython.lib.display.IFrame at 0x7fb960101828>"
      ]
     },
     "execution_count": 6,
     "metadata": {},
     "output_type": "execute_result"
    }
   ],
   "source": [
    "from IPython.display import IFrame\n",
    "\n",
    "IFrame('https://www.youtube.com/embed/r6ZzopHEO1U', width=560, height=315)"
   ]
  },
  {
   "cell_type": "markdown",
   "metadata": {},
   "source": [
    "En este proyecto utilizaremos deep learning. \n",
    "\n",
    "En el próximo notebook exploraremos nuestra data."
   ]
  }
 ],
 "metadata": {
  "kernelspec": {
   "display_name": "Python 3",
   "language": "python",
   "name": "python3"
  },
  "language_info": {
   "codemirror_mode": {
    "name": "ipython",
    "version": 3
   },
   "file_extension": ".py",
   "mimetype": "text/x-python",
   "name": "python",
   "nbconvert_exporter": "python",
   "pygments_lexer": "ipython3",
   "version": "3.6.7"
  }
 },
 "nbformat": 4,
 "nbformat_minor": 2
}
